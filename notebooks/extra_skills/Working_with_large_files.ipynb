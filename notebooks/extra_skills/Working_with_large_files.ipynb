{
  "cells": [
    {
      "cell_type": "code",
      "execution_count": null,
      "metadata": {
        "id": "0f4gX958D57q"
      },
      "outputs": [],
      "source": [
        "!pip install mapclassify"
      ]
    },
    {
      "cell_type": "code",
      "source": [
        "# mount google drive\n",
        "from google.colab import drive\n",
        "drive.mount('/content/drive')"
      ],
      "metadata": {
        "id": "Uvi9SpwEXQFd"
      },
      "execution_count": null,
      "outputs": []
    },
    {
      "cell_type": "code",
      "execution_count": null,
      "metadata": {
        "id": "c5p9Th6ZUf_M"
      },
      "outputs": [],
      "source": [
        "import geopandas as gpd\n",
        "import pandas as pd\n",
        "import os\n",
        "import matplotlib\n",
        "\n",
        "\n",
        "# Feel free to use these funcitons, I developed them with the support of co-pilot\n",
        "\n",
        "def split_geojson_by_size(file_path, max_size_mb, output_folder):\n",
        "    # Load the GeoJSON file into a GeoDataFrame\n",
        "    gdf = gpd.read_file(file_path)\n",
        "\n",
        "    # Calculate the approximate size of each feature\n",
        "    num_features = len(gdf)\n",
        "    total_size_mb = os.path.getsize(file_path) / (1024 * 1024)\n",
        "    size_per_feature_mb = total_size_mb*1.5 / num_features\n",
        "\n",
        "    # Calculate the number of features per split based on max_size_mb\n",
        "    features_per_split = int((max_size_mb / size_per_feature_mb)/2)\n",
        "\n",
        "    # Split the GeoDataFrame into smaller GeoDataFrames\n",
        "    split_gdfs = [gdf.iloc[i:i + features_per_split] for i in range(0, num_features, features_per_split)]\n",
        "\n",
        "    # # Save each smaller GeoDataFrame to a separate GeoJSON file\n",
        "    # for i, split_gdf in enumerate(split_gdfs):\n",
        "    #     split_gdf.to_file(f\"split_{i}.geojson\", driver=\"GeoJSON\")\n",
        "\n",
        "    # Ensure the output folder exists\n",
        "    os.makedirs(output_folder, exist_ok=True)\n",
        "\n",
        "    # Save each smaller GeoDataFrame to a separate GeoJSON file in the output folder\n",
        "    for i, split_gdf in enumerate(split_gdfs):\n",
        "        split_gdf.to_file(os.path.join(output_folder, f\"split_{i}.geojson\"), driver=\"GeoJSON\")\n",
        "\n",
        "def merge_geojson(file_paths):\n",
        "    # Load each GeoJSON file into a GeoDataFrame and concatenate them\n",
        "    gdfs = [gpd.read_file(file_path) for file_path in file_paths]\n",
        "    merged_gdf = gpd.GeoDataFrame(pd.concat(gdfs, ignore_index=True))\n",
        "\n",
        "    return merged_gdf\n"
      ]
    },
    {
      "cell_type": "code",
      "execution_count": null,
      "metadata": {
        "id": "RZLI-r5DmbLh"
      },
      "outputs": [],
      "source": [
        "#\n",
        "# large file downloaded from:https://geoportal.statistics.gov.uk/datasets/12baf1e6a44441208ffe5ba5ed063a68_0/explore?location=0.001591%2C177.510517%2C0.00\n",
        "# saved in MyDrive\n",
        "msoa =gpd.read_file('/content/drive/MyDrive/Middle_layer_Super_Output_Areas_December_2021_Boundaries_EW_BFC_V7_303696399389513507.geojson')"
      ]
    },
    {
      "cell_type": "code",
      "execution_count": null,
      "metadata": {
        "id": "Nokg4zKoDSTv"
      },
      "outputs": [],
      "source": [
        "#msoa.explore()"
      ]
    },
    {
      "cell_type": "code",
      "execution_count": null,
      "metadata": {
        "id": "U9eevTAGEUKW"
      },
      "outputs": [],
      "source": [
        "msoa.head()"
      ]
    },
    {
      "cell_type": "markdown",
      "source": [
        "Option 1: Subset data the first time and save subsetted data as a new geojson. Work with this .geojson, but keep the code (commented out) that creates the geojson .file."
      ],
      "metadata": {
        "id": "lVFyVh3taYog"
      }
    },
    {
      "cell_type": "code",
      "execution_count": null,
      "metadata": {
        "id": "g3K5G2oCEbTN"
      },
      "outputs": [],
      "source": [
        "# Uncomment these lines the first time you subset the data\n",
        "\n",
        "# # Get MSOAs where name contains Southampton\n",
        "# southampton = msoa.loc[msoa['MSOA21NM'].str.contains('Southampton'),:]\n",
        "# # save Southampton as a .geojson\n",
        "# southampton.to_file('/content/drive/MyDrive/Southampton.geojson')\n",
        "\n",
        "\n",
        "# Comment out the above and just use this file every other time your run the code. Uplaod this file to GitHub\n",
        "southampton =gpd.read_file('/content/drive/MyDrive/Southampton.geojson')"
      ]
    },
    {
      "cell_type": "code",
      "execution_count": null,
      "metadata": {
        "id": "HKEqSY9XEbPQ"
      },
      "outputs": [],
      "source": [
        "southampton.explore()"
      ]
    },
    {
      "cell_type": "markdown",
      "metadata": {
        "id": "UsKqmQ-9Ecrq"
      },
      "source": [
        "Option 2: If you need to work with a large file every time, save it in your drive. YOu can then split the file into smaller files, small enough to upload to GitHub"
      ]
    },
    {
      "cell_type": "code",
      "execution_count": null,
      "metadata": {
        "id": "ZAspVMzPUocU"
      },
      "outputs": [],
      "source": [
        "\n",
        "# Use the split_geojson_by_size function\n",
        "# Split the large GeoJSON file into smaller files with a maximum size of 24 MB each\n",
        "# the split files will be in the 'msoas_split_geojson' folder in your drive\n",
        "split_geojson_by_size(\"/content/drive/MyDrive/Middle_layer_Super_Output_Areas_December_2021_Boundaries_EW_BFC_V7_303696399389513507.geojson\", max_size_mb=24, output_folder='/content/drive/MyDrive/msoas_split_geojson')\n",
        "\n"
      ]
    },
    {
      "cell_type": "code",
      "execution_count": null,
      "metadata": {
        "id": "xSrnCHMbUvxL"
      },
      "outputs": [],
      "source": [
        "# Merge the smaller GeoJSON files back into one GeoDataFrame\n",
        "#file_paths = [f\"split_{i}.geojson\" for i in range(len([f for f in os.listdir() if 'split_' in f]))]\n",
        "\n",
        "file_paths = [f\"split_{i}.geojson\" for i in range(len([f for f in os.listdir('/content/drive/MyDrive/msoas_split_geojson') if 'split_' in f]))]\n",
        "merged_gdf = merge_geojson(file_paths)\n",
        "\n",
        "# Look at the merged GeoDataFrame\n",
        "merged_gdf.head()"
      ]
    },
    {
      "cell_type": "markdown",
      "source": [
        "You can then upload these smaller files to GitHub"
      ],
      "metadata": {
        "id": "QKD4F4dTbmF4"
      }
    }
  ],
  "metadata": {
    "colab": {
      "provenance": []
    },
    "kernelspec": {
      "display_name": "Python 3",
      "name": "python3"
    },
    "language_info": {
      "name": "python"
    }
  },
  "nbformat": 4,
  "nbformat_minor": 0
}