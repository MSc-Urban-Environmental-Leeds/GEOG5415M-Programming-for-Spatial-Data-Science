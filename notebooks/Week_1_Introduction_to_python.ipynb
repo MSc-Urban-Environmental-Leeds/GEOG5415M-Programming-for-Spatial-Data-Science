{
  "cells": [
    {
      "cell_type": "markdown",
      "metadata": {
        "id": "LV7BQX8p88_b"
      },
      "source": [
        "\n",
        "# GEOG59950 Week 1: Getting started with Python\n",
        "\n",
        "Contact: F.L.Pontin@leeds.ac.uk <a class=\"tocSkip\">"
      ]
    },
    {
      "cell_type": "markdown",
      "metadata": {
        "id": "QY2BU2dm88_b"
      },
      "source": [
        "### Hiding Generative AI assistance\n",
        "\n",
        "Before we get started, a note on AI. Generative AI might seem like the answer, but until you have a good baseline knowledge in programming it stops you learning from your mistakes (what coding is all about). So we are going to turn-off the in-built AI in colab.\n",
        "\n",
        "1. In the menu click: Tools > Settings\n",
        "2. In the pop-out 'Settings' box you will see a menu on the left-hand side (Site, Editor etc.), go down to Editor.\n",
        "3. Un-select all the tick boxes\n",
        "4. Click 'save' in the bottom right-hand corner\n",
        "\n",
        "\n",
        "![Screenshot showing location of generative AI button](https://github.com/MSc-Urban-Environmental-Leeds/GEOG5415M-Programming-for-Spatial-Data-Science/blob/main/screenshots/code_auto_complete.png?raw=1)\n",
        "\n"
      ]
    },
    {
      "cell_type": "markdown",
      "source": [
        "## Using Jupyter notebooks\n",
        "\n",
        "Welcome to coding in Python! This course is designed to introduce you to the basics of coding in Python and then get you to apply your new-found coding skills to carry out some spatial data analytics!\n",
        "This session is written in a Jupyter Notebook. A Jupyter Notebook [\"is an open source web application that you can use to create and share documents that contain live code, equations, visualizations, and text\"](https://realpython.com/jupyter-notebook-introduction/)."
      ],
      "metadata": {
        "id": "KNCYPfct9-ij"
      }
    },
    {
      "cell_type": "markdown",
      "metadata": {
        "id": "tOvKdq4d88_c"
      },
      "source": [
        "### Cells\n",
        "\n",
        "\n",
        "\n",
        "A Jupyter Notebook is made up of cells. These cells can contain text (which can be formatted to look nice using [markdown](https://www.markdownlang.com/basic/overview.html#syntax-example)), code, images and many other formats.\n",
        "\n",
        "**Text cells** might look something like this, using a combination of headers, links, and normal text:\n",
        "![Select text cell](https://github.com/MSc-Urban-Environmental-Leeds/GEOG5415M-Programming-for-Spatial-Data-Science/blob/main/screenshots/Select_text_cell_colab.png?raw=1)\n",
        "\n",
        "**Code cells** will have a grey background, like this:\n",
        "![Select code cell](https://github.com/MSc-Urban-Environmental-Leeds/GEOG5415M-Programming-for-Spatial-Data-Science/blob/main/screenshots/Select_code_cell_colab.png?raw=1)\n",
        "\n",
        "To edit a text cell, click in it twice. A toolbar will appear at the top of the cell. The left hand-side will show the raw text and right-hand side shows the 'rendered' code. Try clicking on **this cell** (_I mean click right here!_) and you should see something like the image below:\n",
        "![Edit text cell](https://github.com/MSc-Urban-Environmental-Leeds/GEOG5415M-Programming-for-Spatial-Data-Science/blob/main/screenshots/Edit_text_cell_colab.png?raw=1)\n",
        "\n",
        "Have a look at all the functions on the right-hand toolbar ('Move up', 'Move down', 'Copy link to cell', 'Edit', etc...). These will be useful later.\n",
        "\n",
        "\n",
        "\n"
      ]
    },
    {
      "cell_type": "markdown",
      "metadata": {
        "id": "zicfOIh288_c"
      },
      "source": [
        "### How to use these notebooks\n",
        "\n",
        "During the teaching session you will read through the Jupyter Notebook, running sections of code yourself to learn key data analysis skills. There will also be places to edit and write your own code within the notebook.\n",
        "\n",
        "*  <b><font color='orchid'>Instructions and tasks for you to complete are in purple</font></b>\n",
        "    \n",
        "*  <b>Where you have to write your own code answers are provided at the end of the section</b>\n",
        "\n"
      ]
    },
    {
      "cell_type": "markdown",
      "source": [
        "### How to run a cell of code\n",
        "\n",
        "To run code select the cell you want to run (the blue box will appear arround the selected cell) and then EITHER:\n",
        "\n",
        " - type CTRL + ENTER on your key board (SHIFT + ENTER or CMD + ENTER for mac)\n",
        "\n",
        " -  click the play button to the left of the cell\n",
        "\n",
        "![Run a cell](https://github.com/MSc-Urban-Environmental-Leeds/GEOG5415M-Programming-for-Spatial-Data-Science/blob/main/screenshots/Run_cell_colab.png?raw=1)"
      ],
      "metadata": {
        "id": "eUvzGcl2-Xvg"
      }
    },
    {
      "cell_type": "markdown",
      "metadata": {
        "id": "0Q_KpGb788_c"
      },
      "source": [
        "### How do I know if I have run the cell?\n",
        "If the cell of code has been run a number will appear in squared brackets by the cell  e.g. <code>In [1]: or In [12]:</code>\n",
        "\n",
        "The numbering refers to the order in which you have run the cells\n",
        "\n",
        "An un-run cell of code has an empty set of squared brackets by the cell I.e. <code>In []:</code>\n",
        "\n",
        "A green tick will appear to the left (if the cell has run correctly):\n",
        "\n",
        "![Cell has run](https://github.com/MSc-Urban-Environmental-Leeds/GEOG5415M-Programming-for-Spatial-Data-Science/blob/main/screenshots/Cell_has_run.png?raw=1)"
      ]
    },
    {
      "cell_type": "markdown",
      "metadata": {
        "id": "Bzc1DMSv88_c"
      },
      "source": [
        "### How do I add a new cell?<a id='new_cell'></a>\n",
        "\n",
        "To add a new cell select a cell and hover at the bottom of the cell, select either \"+ Code\" or \"+ Text\". This will add a new code cell or text cell below the selected cell. Do the same at the top of the cell to add a new cell before the selected cell.\n",
        "\n",
        "![Add a cell](https://github.com/MSc-Urban-Environmental-Leeds/GEOG5415M-Programming-for-Spatial-Data-Science/blob/main/screenshots/Add_a_cell.png?raw=1)\n",
        "\n",
        "To delete a cell use the tool bar on the right-hand side."
      ]
    },
    {
      "cell_type": "markdown",
      "metadata": {
        "id": "JQ8yxlz088_c"
      },
      "source": [
        "## Hello World"
      ]
    },
    {
      "cell_type": "markdown",
      "metadata": {
        "id": "oI6CNqjS88_c"
      },
      "source": [
        "Following coding tradition the first thing we are going to program is to print the words \"Hello World\".\n",
        "\n",
        "The <code>print() </code> function prints the specified message to your screen\n",
        "\n",
        "The speech marks <code>\" \"</code> arround Hello World let python know you are typing text (also known as a string).\n",
        "\n",
        " <font color='orchid'> <b>Run the code below</b></font>"
      ]
    },
    {
      "cell_type": "code",
      "execution_count": null,
      "metadata": {
        "id": "qqH1GVTa88_d"
      },
      "outputs": [],
      "source": [
        "print(\"Hello World\")"
      ]
    },
    {
      "cell_type": "markdown",
      "source": [
        "If you ran that cell correctly you should see `Hello World` printed out underneath the code chunk."
      ],
      "metadata": {
        "id": "r6S4JoqU-zEo"
      }
    },
    {
      "cell_type": "markdown",
      "metadata": {
        "id": "COf6muKG88_t"
      },
      "source": [
        "## Basic maths"
      ]
    },
    {
      "cell_type": "markdown",
      "metadata": {
        "id": "AcPstdEf88_t"
      },
      "source": [
        "Lets do some basic maths\n",
        "<br><font color='orchid'> <b>Run the code below</b></font>"
      ]
    },
    {
      "cell_type": "code",
      "execution_count": null,
      "metadata": {
        "id": "L6nRGpas88_t"
      },
      "outputs": [],
      "source": [
        "2+2"
      ]
    },
    {
      "cell_type": "markdown",
      "source": [
        "What's happenning there is python is doing the sum for us and the notebook is displaying the last thing it did (in this case calculate the answer of the sum `2+2`."
      ],
      "metadata": {
        "id": "qajC-ojc_QNo"
      }
    },
    {
      "cell_type": "markdown",
      "metadata": {
        "id": "hyfMKif388_t"
      },
      "source": [
        "If we use the `print` function to display the result of the sum, we get the same thing\n",
        "<br> <font color='orchid'> <b>Run the code below</b></font>"
      ]
    },
    {
      "cell_type": "code",
      "execution_count": null,
      "metadata": {
        "id": "FX0ZZ_Ur88_t"
      },
      "outputs": [],
      "source": [
        "print(2+2)"
      ]
    },
    {
      "cell_type": "markdown",
      "metadata": {
        "id": "SLikdOD588_t"
      },
      "source": [
        "However, if we print the text string `2+2`, i.e. `print(\"2+2\")` then get the characters \"2+2\" as the speach marks tell Python we are typing text and not numerical characters. It is just rendering the text for us, not doing any calculations.\n",
        "\n",
        "\n",
        "<br> <font color='orchid'> <b>Run the code below</b></font> and see for yourself"
      ]
    },
    {
      "cell_type": "code",
      "execution_count": null,
      "metadata": {
        "scrolled": true,
        "id": "aVCdXjIR88_t"
      },
      "outputs": [],
      "source": [
        "print(\"2+2\")"
      ]
    },
    {
      "cell_type": "markdown",
      "metadata": {
        "id": "F_TiT-iJ88_u"
      },
      "source": [
        "### Subtraction, Multiplication and Division\n",
        "The folliwng symbols are used for other basic mathmatical functions\n",
        "- subtraction: <b>-</b>\n",
        "- Multiplication: <b>*</b>\n",
        "- division: <b>/</b>\n",
        "\n",
        "<br> <font color='orchid'> <b> Write some of your own mathmatical lines of code </font>"
      ]
    },
    {
      "cell_type": "code",
      "execution_count": null,
      "metadata": {
        "id": "Q3hYPBSY88_u"
      },
      "outputs": [],
      "source": []
    },
    {
      "cell_type": "code",
      "execution_count": null,
      "metadata": {
        "id": "Gx81yZks88_u"
      },
      "outputs": [],
      "source": []
    },
    {
      "cell_type": "markdown",
      "metadata": {
        "id": "1zb9afVk88_u"
      },
      "source": [
        "## Assigning values to variables\n",
        "\n",
        "A _variable_ is a way of keeping track of different things in our code. For example we might want to remember the number pi is roughly 3.14, so we could store it in a variable called `pi` like this:\n",
        "```\n",
        "pi = 3.14\n",
        "```\n",
        "\n",
        "Then we can use that variable when we do sums. For example, what do you think the following two lines of code will do?\n",
        "\n",
        "Decide what you think the result will be and then <font color='orchid'> <b> run the chunk below </font>\n"
      ]
    },
    {
      "cell_type": "code",
      "source": [
        "pi = 3.14\n",
        "pi * 2"
      ],
      "metadata": {
        "id": "bbxPjNccA0nI"
      },
      "execution_count": null,
      "outputs": []
    },
    {
      "cell_type": "markdown",
      "source": [
        "\n",
        "We can also assign the results of our calculations to a variable. For example, we can assign the result of `2 * pi` to a variable called 'answer' like this:\n",
        "```\n",
        "answer = pi * 2\n",
        "print(answer)\n",
        "```\n",
        "\n",
        "<br> <font color='orchid'> <b>Try that for yourself with the chunk below</b></font>"
      ],
      "metadata": {
        "id": "WcnM6PSNAtKO"
      }
    },
    {
      "cell_type": "code",
      "execution_count": null,
      "metadata": {
        "id": "VQsFMutt88_u"
      },
      "outputs": [],
      "source": [
        "answer = pi * 2\n",
        "print(answer)"
      ]
    },
    {
      "cell_type": "markdown",
      "source": [
        "Note that in the chunk above we didn't need to write `pi=3.14` again because we had already _declared_ the 'pi' variable above, and python remembers all of our variables unless we close the notebook."
      ],
      "metadata": {
        "id": "UlIJElKHBpe6"
      }
    },
    {
      "cell_type": "markdown",
      "source": [
        "Finally, we can also use a hash (#) in our code if we want to add a _comment_. Comments are text that python ignores when it is processing our code (it ignores everything after the hash until the next new line).\n",
        "\n",
        "To see this in action, <font color='orchid'> <b>run the following chunk:</b></font>"
      ],
      "metadata": {
        "id": "ft1E8YAzB8UK"
      }
    },
    {
      "cell_type": "code",
      "execution_count": null,
      "metadata": {
        "id": "w4tG3ORD88_u"
      },
      "outputs": [],
      "source": [
        "# this is a 'comment' that python will ignore\n",
        "answer + 2 # it will also igore everything after the '#' on this line"
      ]
    },
    {
      "cell_type": "markdown",
      "metadata": {
        "id": "EImBVc9S88_u"
      },
      "source": [
        "## Congratualtions you have written your first few lines of code"
      ]
    }
  ],
  "metadata": {
    "kernelspec": {
      "display_name": "Python 3 (ipykernel)",
      "language": "python",
      "name": "python3"
    },
    "language_info": {
      "codemirror_mode": {
        "name": "ipython",
        "version": 3
      },
      "file_extension": ".py",
      "mimetype": "text/x-python",
      "name": "python",
      "nbconvert_exporter": "python",
      "pygments_lexer": "ipython3",
      "version": "3.11.7"
    },
    "toc": {
      "base_numbering": 1,
      "nav_menu": {},
      "number_sections": true,
      "sideBar": true,
      "skip_h1_title": false,
      "title_cell": "Table of Contents",
      "title_sidebar": "Contents",
      "toc_cell": false,
      "toc_position": {
        "height": "calc(100% - 180px)",
        "left": "10px",
        "top": "150px",
        "width": "400.11029052734375px"
      },
      "toc_section_display": true,
      "toc_window_display": true
    },
    "colab": {
      "provenance": []
    }
  },
  "nbformat": 4,
  "nbformat_minor": 0
}